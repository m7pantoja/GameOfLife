{
 "cells": [
  {
   "cell_type": "code",
   "execution_count": 33,
   "metadata": {},
   "outputs": [
    {
     "name": "stdout",
     "output_type": "stream",
     "text": [
      "<rect(10, 10, 10, 10)>\n",
      "done\n"
     ]
    }
   ],
   "source": [
    "import pygame\n",
    "from functools import reduce\n",
    "# -----------------------\n",
    "\n",
    "pygame.init()\n",
    "CELL_DIM = 10\n",
    "\n",
    "# .....\n",
    "\n",
    "def noreps(xs):\n",
    "    # takes a list and returns a list with no reps \n",
    "    ys = []\n",
    "    for x in xs:\n",
    "        if x not in ys:\n",
    "            ys.append(x)\n",
    "    return ys\n",
    "\n",
    "# .....\n",
    "\n",
    "def _neighbors(c):\n",
    "    xs = [pygame.Rect(x, y, CELL_DIM, CELL_DIM)\n",
    "        for x in range(c.left - CELL_DIM, c.right+ CELL_DIM, CELL_DIM) \n",
    "        for y in range(c.top - CELL_DIM, c.bottom + CELL_DIM, CELL_DIM)]\n",
    "    xs.remove(c)\n",
    "    return xs\n",
    "\n",
    "class Grid:\n",
    "\n",
    "    def __init__(self,alive_cells = []):\n",
    "        self.alive_cells = noreps(alive_cells)\n",
    "        self.cells = noreps([ncell for ac in self.alive_cells for ncell in _neighbors(ac)] + self.alive_cells)\n",
    "\n",
    "    def update(self):\n",
    "        def _alive_neighbors(c):\n",
    "            alive_neighbors = 0\n",
    "            for ncell in _neighbors(c):\n",
    "                if ncell in self.alive_cells:\n",
    "                    alive_neighbors += 1\n",
    "            return alive_neighbors\n",
    "\n",
    "        new_alive_cells = []\n",
    "        for cell in self.cells:\n",
    "            if _alive_neighbors(cell) == 3:\n",
    "                new_alive_cells.append(cell)\n",
    "            elif ((_alive_neighbors(cell) == 2) and (cell in self.alive_cells)):\n",
    "                new_alive_cells.append(cell)\n",
    "            else:\n",
    "                pass\n",
    "\n",
    "        new_grid = Grid(new_alive_cells)\n",
    "\n",
    "        self.alive_cells = new_grid.alive_cells\n",
    "        self.cells = new_grid.cells\n",
    "\n",
    "mi_grid = Grid([pygame.Rect(10,10,10,10)])\n",
    "\n",
    "\n",
    "for c in mi_grid.alive_cells:\n",
    "    print(c)\n",
    "\n",
    "print(\"done\")"
   ]
  },
  {
   "cell_type": "code",
   "execution_count": 42,
   "metadata": {},
   "outputs": [
    {
     "name": "stdout",
     "output_type": "stream",
     "text": [
      "[<rect(10, 20, 10, 10)>]\n"
     ]
    }
   ],
   "source": [
    "import pygame\n",
    "from functools import reduce\n",
    "# -----------------------\n",
    "\n",
    "pygame.init()\n",
    "CELL_DIM = 10\n",
    "\n",
    "# .....\n",
    "\n",
    "def noreps(xs):\n",
    "    # takes a list and returns a list with no reps \n",
    "    ys = []\n",
    "    for x in xs:\n",
    "        if x not in ys:\n",
    "            ys.append(x)\n",
    "    return ys\n",
    "\n",
    "# .....\n",
    "\n",
    "def _neighbors(c):\n",
    "    xs = [pygame.Rect(x, y, CELL_DIM, CELL_DIM)\n",
    "        for x in range(c.left - CELL_DIM, c.right+ CELL_DIM, CELL_DIM) \n",
    "        for y in range(c.top - CELL_DIM, c.bottom + CELL_DIM, CELL_DIM)]\n",
    "    xs.remove(c)\n",
    "    return xs\n",
    "\n",
    "class Grid:\n",
    "\n",
    "    def __init__(self,alive_cells = []):\n",
    "        self.alive_cells = noreps(alive_cells)\n",
    "        self.cells = noreps([ncell for ac in self.alive_cells for ncell in _neighbors(ac)] + self.alive_cells)\n",
    "\n",
    "    def add(self, cell):\n",
    "        if cell in self.alive_cells:\n",
    "            pass\n",
    "        else:\n",
    "            self.alive_cells.append(cell)\n",
    "\n",
    "    def remove(self,cell):\n",
    "        if cell not in self.alive_cells:\n",
    "            pass\n",
    "        else:\n",
    "            self.alive_cells.remove(cell)\n",
    "\n",
    "    def update(self):\n",
    "        def _alive_neighbors(c):\n",
    "            alive_neighbors = 0\n",
    "            for ncell in _neighbors(c):\n",
    "                if ncell in self.alive_cells:\n",
    "                    alive_neighbors += 1\n",
    "            return alive_neighbors\n",
    "\n",
    "        new_alive_cells = []\n",
    "        for cell in self.cells:\n",
    "            if _alive_neighbors(cell) == 3:\n",
    "                new_alive_cells.append(cell)\n",
    "            elif ((_alive_neighbors(cell) == 2) and (cell in self.alive_cells)):\n",
    "                new_alive_cells.append(cell)\n",
    "            else:\n",
    "                pass\n",
    "\n",
    "        new_grid = Grid(new_alive_cells)\n",
    "\n",
    "        self.alive_cells = new_grid.alive_cells\n",
    "        self.cells = new_grid.cells\n",
    "\n",
    "\n",
    "grid1 = Grid([pygame.Rect(10,10,10,10)])\n",
    "\n",
    "grid1.add(pygame.Rect(10,20,10,10))\n",
    "grid1.remove(pygame.Rect(10,10,10,10))\n",
    "\n",
    "print(grid1.alive_cells)"
   ]
  },
  {
   "cell_type": "code",
   "execution_count": 47,
   "metadata": {},
   "outputs": [
    {
     "data": {
      "text/plain": [
       "13.0"
      ]
     },
     "execution_count": 47,
     "metadata": {},
     "output_type": "execute_result"
    }
   ],
   "source": [
    "20 // 1.5"
   ]
  },
  {
   "cell_type": "code",
   "execution_count": 48,
   "metadata": {},
   "outputs": [
    {
     "data": {
      "text/plain": [
       "<rect(0, 0, 10, 10)>"
      ]
     },
     "execution_count": 48,
     "metadata": {},
     "output_type": "execute_result"
    }
   ],
   "source": [
    "import pygame\n",
    "CELL_DIM = 10\n",
    "\n",
    "\n",
    "p = (2,3)\n",
    "pygame.Rect((p[0] // CELL_DIM) * CELL_DIM, (p[1] // CELL_DIM) * CELL_DIM, CELL_DIM, CELL_DIM)"
   ]
  },
  {
   "cell_type": "code",
   "execution_count": null,
   "metadata": {},
   "outputs": [],
   "source": [
    "import pygame\n",
    "from functools import reduce\n",
    "# -----------------------\n",
    "\n",
    "pygame.init()\n",
    "CELL_DIM = 10\n",
    "\n",
    "# .....\n",
    "\n",
    "def noreps(xs):\n",
    "    # takes a list and returns a list with no reps \n",
    "    ys = []\n",
    "    for x in xs:\n",
    "        if x not in ys:\n",
    "            ys.append(x)\n",
    "    return ys\n",
    "\n",
    "# .....\n",
    "\n",
    "def _neighbors(c):\n",
    "    xs = [pygame.Rect(x, y, CELL_DIM, CELL_DIM)\n",
    "        for x in range(c.left - CELL_DIM, c.right+ CELL_DIM, CELL_DIM) \n",
    "        for y in range(c.top - CELL_DIM, c.bottom + CELL_DIM, CELL_DIM)]\n",
    "    xs.remove(c)\n",
    "    return xs\n",
    "\n",
    "class Grid:\n",
    "\n",
    "    def __init__(self,alive_cells = []):\n",
    "        self.alive_cells = noreps(alive_cells)\n",
    "        self.cells = noreps([ncell for ac in self.alive_cells for ncell in _neighbors(ac)] + self.alive_cells)\n",
    "\n",
    "    def add(self, cell):\n",
    "        if cell in self.alive_cells:\n",
    "            pass\n",
    "        else:\n",
    "            self.alive_cells += cell\n",
    "\n",
    "    def remove(self,cell):\n",
    "        if cell not in self.alive_cells:\n",
    "            pass\n",
    "        else:\n",
    "            self.alive_cells.remove(cell)\n",
    "\n",
    "    def update(self):\n",
    "        def _alive_neighbors(c):\n",
    "            alive_neighbors = 0\n",
    "            for ncell in _neighbors(c):\n",
    "                if ncell in self.alive_cells:\n",
    "                    alive_neighbors += 1\n",
    "            return alive_neighbors\n",
    "\n",
    "        new_alive_cells = []\n",
    "        for cell in self.cells:\n",
    "            if _alive_neighbors(cell) == 3:\n",
    "                new_alive_cells.append(cell)\n",
    "            elif ((_alive_neighbors(cell) == 2) and (cell in self.alive_cells)):\n",
    "                new_alive_cells.append(cell)\n",
    "            else:\n",
    "                pass\n",
    "\n",
    "        new_grid = Grid(new_alive_cells)\n",
    "\n",
    "        self.alive_cells = new_grid.alive_cells\n",
    "        self.cells = new_grid.cells\n",
    "\n"
   ]
  },
  {
   "cell_type": "code",
   "execution_count": 49,
   "metadata": {},
   "outputs": [
    {
     "name": "stdout",
     "output_type": "stream",
     "text": [
      "x\n"
     ]
    }
   ],
   "source": [
    "while False:\n",
    "    pass\n",
    "else: \n",
    "    print(\"x\")"
   ]
  }
 ],
 "metadata": {
  "kernelspec": {
   "display_name": "Python 3",
   "language": "python",
   "name": "python3"
  },
  "language_info": {
   "codemirror_mode": {
    "name": "ipython",
    "version": 3
   },
   "file_extension": ".py",
   "mimetype": "text/x-python",
   "name": "python",
   "nbconvert_exporter": "python",
   "pygments_lexer": "ipython3",
   "version": "3.11.0"
  },
  "orig_nbformat": 4,
  "vscode": {
   "interpreter": {
    "hash": "c34eb901709e8b62ca3e0ae853674a0e9ddcbe133286d61a672db46309b9c981"
   }
  }
 },
 "nbformat": 4,
 "nbformat_minor": 2
}
