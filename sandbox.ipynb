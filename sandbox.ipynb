{
 "cells": [
  {
   "cell_type": "code",
   "execution_count": 4,
   "metadata": {},
   "outputs": [
    {
     "ename": "TypeError",
     "evalue": "unhashable type: 'Cell'",
     "output_type": "error",
     "traceback": [
      "\u001b[1;31m---------------------------------------------------------------------------\u001b[0m",
      "\u001b[1;31mTypeError\u001b[0m                                 Traceback (most recent call last)",
      "Cell \u001b[1;32mIn [4], line 3\u001b[0m\n\u001b[0;32m      1\u001b[0m \u001b[39mimport\u001b[39;00m \u001b[39m_cell_class\u001b[39;00m\n\u001b[1;32m----> 3\u001b[0m {_cell_class\u001b[39m.\u001b[39mCell((\u001b[39m10\u001b[39m,\u001b[39m10\u001b[39m),\u001b[39m10\u001b[39m)}\n",
      "\u001b[1;31mTypeError\u001b[0m: unhashable type: 'Cell'"
     ]
    }
   ],
   "source": [
    "import _cell_class\n",
    "\n",
    "{_cell_class.Cell((10,10),10)}"
   ]
  },
  {
   "cell_type": "code",
   "execution_count": 10,
   "metadata": {},
   "outputs": [
    {
     "data": {
      "text/plain": [
       "{(1, 2, 3)}"
      ]
     },
     "execution_count": 10,
     "metadata": {},
     "output_type": "execute_result"
    }
   ],
   "source": [
    "import _cell_class\n",
    "import _grids_class\n",
    "\n",
    "{(1,2,3)}"
   ]
  },
  {
   "cell_type": "code",
   "execution_count": 14,
   "metadata": {},
   "outputs": [
    {
     "name": "stdout",
     "output_type": "stream",
     "text": [
      "(10,10) : [10]\n",
      "True {(0,0) : [10], (10,20) : [10], (0,20) : [10], (0,10) : [10], (10,0) : [10], (20,0) : [10], (20,10) : [10], (20,20) : [10]}\n"
     ]
    }
   ],
   "source": [
    "import _cell_class\n",
    "\n",
    "cell1 = _cell_class.Cell((10,10),10)\n",
    "cell2 = _cell_class.Cell((0,0),10)\n",
    "\n",
    "\n",
    "print(cell1)\n",
    "\n",
    "\n",
    "neis = cell1.neighbors()\n",
    "print(cell2 in [_cell_class.Cell((0,0),10)], neis)\n",
    "\n",
    "[1,2,3].append(1)"
   ]
  }
 ],
 "metadata": {
  "kernelspec": {
   "display_name": "Python 3",
   "language": "python",
   "name": "python3"
  },
  "language_info": {
   "codemirror_mode": {
    "name": "ipython",
    "version": 3
   },
   "file_extension": ".py",
   "mimetype": "text/x-python",
   "name": "python",
   "nbconvert_exporter": "python",
   "pygments_lexer": "ipython3",
   "version": "3.11.0"
  },
  "orig_nbformat": 4,
  "vscode": {
   "interpreter": {
    "hash": "c34eb901709e8b62ca3e0ae853674a0e9ddcbe133286d61a672db46309b9c981"
   }
  }
 },
 "nbformat": 4,
 "nbformat_minor": 2
}
