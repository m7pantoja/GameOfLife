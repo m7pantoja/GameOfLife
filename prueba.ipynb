{
 "cells": [
  {
   "cell_type": "code",
   "execution_count": 4,
   "metadata": {},
   "outputs": [
    {
     "name": "stdout",
     "output_type": "stream",
     "text": [
      "0\n"
     ]
    }
   ],
   "source": [
    "class Cuadrado:\n",
    "    \n",
    "    def __init__(self,vs):\n",
    "        self.v1 = vs[0]\n",
    "        self.v2 = vs[1]\n",
    "        self.xmax = max(self.v1[0],self.v2[0])\n",
    "        self.xmin = min(self.v1[0],self.v2[0])\n",
    "        self.ymax = max(self.v1[1],self.v2[1])\n",
    "        self.ymin = min(self.v1[1],self.v2[1])\n",
    "\n",
    "\n",
    "    def ispointin(self,point):\n",
    "        return (point[0] >= self.xmin and point[0] <= self.xmax) \\\n",
    "                and (point[1] >= self.ymin and point[0] <= self.ymax)\n",
    "\n",
    "red = [Cuadrado(((x,y),(x+20,y+20))) for x in range(0,820,20) for y in range(0,520,20)]\n",
    "\n",
    "p = (10,10)\n",
    "for c in red:\n",
    "    if c.ispointin(p):\n",
    "        print(c.ymin)\n",
    "        break\n"
   ]
  },
  {
   "cell_type": "code",
   "execution_count": 1,
   "metadata": {},
   "outputs": [
    {
     "ename": "ValueError",
     "evalue": "list.remove(x): x not in list",
     "output_type": "error",
     "traceback": [
      "\u001b[1;31m---------------------------------------------------------------------------\u001b[0m",
      "\u001b[1;31mValueError\u001b[0m                                Traceback (most recent call last)",
      "Cell \u001b[1;32mIn [1], line 1\u001b[0m\n\u001b[1;32m----> 1\u001b[0m [\u001b[39m1\u001b[39;49m,\u001b[39m23\u001b[39;49m,\u001b[39m3\u001b[39;49m]\u001b[39m.\u001b[39;49mremove(\u001b[39m2\u001b[39;49m)\n",
      "\u001b[1;31mValueError\u001b[0m: list.remove(x): x not in list"
     ]
    }
   ],
   "source": [
    "[1,23,3].remove(2)"
   ]
  },
  {
   "cell_type": "code",
   "execution_count": null,
   "metadata": {},
   "outputs": [],
   "source": []
  }
 ],
 "metadata": {
  "kernelspec": {
   "display_name": "Python 3",
   "language": "python",
   "name": "python3"
  },
  "language_info": {
   "codemirror_mode": {
    "name": "ipython",
    "version": 3
   },
   "file_extension": ".py",
   "mimetype": "text/x-python",
   "name": "python",
   "nbconvert_exporter": "python",
   "pygments_lexer": "ipython3",
   "version": "3.11.0"
  },
  "orig_nbformat": 4,
  "vscode": {
   "interpreter": {
    "hash": "c34eb901709e8b62ca3e0ae853674a0e9ddcbe133286d61a672db46309b9c981"
   }
  }
 },
 "nbformat": 4,
 "nbformat_minor": 2
}
